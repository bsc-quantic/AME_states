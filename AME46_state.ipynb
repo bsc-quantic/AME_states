{
 "cells": [
  {
   "cell_type": "markdown",
   "id": "9de1be93",
   "metadata": {},
   "source": [
    "# AME (4,6) with qudit gates"
   ]
  },
  {
   "cell_type": "code",
   "execution_count": 1,
   "id": "e0a410ed",
   "metadata": {},
   "outputs": [],
   "source": [
    "import numpy as np\n",
    "import qutip\n",
    "from qhexagates import QHexaGates \n"
   ]
  },
  {
   "cell_type": "code",
   "execution_count": 10,
   "id": "cda621f3",
   "metadata": {},
   "outputs": [],
   "source": [
    "\n",
    "# Helper functions for complex exponentials\n",
    "def exp(angle):\n",
    "    return np.exp(2j * np.pi * angle / 6)\n",
    "\n",
    "def exp_3(angle):\n",
    "    return np.exp(2j * np.pi * angle / 3)\n",
    "\n",
    "# Initialize the class and basic operators\n",
    "qhex = QHexaGates()\n",
    "I = np.identity(6)\n",
    "q0 = qhex.q[0]\n",
    "\n",
    "# Prepare initial state |0000⟩\n",
    "initial_state = np.kron(np.kron(np.kron(q0, q0), q0), q0)\n",
    "\n",
    "# Apply Fourier gates on quhexas 0 and 1\n",
    "F0 = np.kron(qhex.fourier(), np.kron(I, np.kron(I, I)))\n",
    "F1 = np.kron(I, np.kron(qhex.fourier(), np.kron(I, I)))\n",
    "\n",
    "psi = initial_state @ F0 @ F1\n",
    "psi = psi @ qhex.CNOT_initial_state(k=0, j=2)\n",
    "psi = psi @ qhex.CNOT_initial_state(k=1, j=3)\n",
    "\n",
    "# Apply generalized CNOT and another Fourier on quhexa 0\n",
    "psi = psi @ qhex.P_gate_01()\n",
    "psi = psi @ F0\n",
    "\n",
    "# Define Λ₀ (Lambda0): controlled phase gates on target quhexa 2\n",
    "Lambda0 = (\n",
    "    qhex.controlled_01(0, [exp(0), exp(1), exp(0), exp(1), exp(3), exp(3)]) @\n",
    "    qhex.controlled_01(1, [exp(3), exp(3), exp(1), exp(5), exp(2), exp(4)]) @\n",
    "    qhex.controlled_01(2, [exp(2), exp(1), exp(3), exp(1), exp(2), exp(3)]) @\n",
    "    qhex.controlled_01(3, [exp(1), exp(1), exp(2), exp(0), exp(3), exp(5)]) @\n",
    "    qhex.controlled_01(4, [exp(5), exp(3), exp(2), exp(3), exp(2), exp(5)]) @\n",
    "    qhex.controlled_01(5, [exp(4), exp(4), exp(1), exp(5), exp(5), exp(1)])\n",
    ")\n",
    "\n",
    "# Define Λ₁ (Lambda1)\n",
    "Lambda1 = (\n",
    "    qhex.controlled_01(0, [exp(0), exp(2), exp(3), exp(3), exp(2), exp(0)]) @\n",
    "    qhex.controlled_01(1, [exp(0), exp(3), exp(2), exp(2), exp(0), exp(4)]) @\n",
    "    qhex.controlled_01(2, [exp(2), exp(0), exp(3), exp(5), exp(0), exp(0)]) @\n",
    "    qhex.controlled_01(3, [exp(0), exp(5), exp(0), exp(0), exp(2), exp(0)]) @\n",
    "    qhex.controlled_01(4, [exp(2), exp(2), exp(5), exp(3), exp(2), exp(4)]) @\n",
    "    qhex.controlled_01(5, [exp(2), exp(3), exp(0), exp(2), exp(0), exp(0)])\n",
    ")\n",
    "\n",
    "# Define Λ₂ (Lambda2) using exp_3\n",
    "Lambda2 = (\n",
    "    qhex.controlled_01(0, [exp_3(0), exp_3(2), exp_3(2), exp_3(0), exp_3(0), exp_3(1)]) @\n",
    "    qhex.controlled_01(1, [exp_3(0), exp_3(1), exp_3(1), exp_3(1), exp_3(2), exp_3(1)]) @\n",
    "    qhex.controlled_01(2, [exp_3(0), exp_3(2), exp_3(0), exp_3(2), exp_3(2), exp_3(2)]) @\n",
    "    qhex.controlled_01(3, [exp_3(2), exp_3(0), exp_3(2), exp_3(2), exp_3(2), exp_3(1)]) @\n",
    "    qhex.controlled_01(4, [exp_3(1), exp_3(1), exp_3(2), exp_3(0), exp_3(2), exp_3(2)]) @\n",
    "    qhex.controlled_01(5, [exp_3(0), exp_3(1), exp_3(2), exp_3(2), exp_3(1), exp_3(0)])\n",
    ")\n",
    "\n",
    "# Apply Λ₀ (can replace with Λ₁ or Λ₂ to generate different AME states)\n",
    "psi = psi @ Lambda2\n",
    "\n",
    "# Final operations\n",
    "psi = psi @ F0\n",
    "psi = psi @ qhex.P_gate_01()\n"
   ]
  },
  {
   "cell_type": "code",
   "execution_count": 11,
   "id": "572c6d42",
   "metadata": {},
   "outputs": [],
   "source": [
    "ame_state_normalized = psi/np.linalg.norm(psi)"
   ]
  },
  {
   "cell_type": "markdown",
   "metadata": {},
   "source": [
    "## Compute the entropy to check if it is an AME state"
   ]
  },
  {
   "cell_type": "code",
   "execution_count": 12,
   "metadata": {},
   "outputs": [
    {
     "name": "stdout",
     "output_type": "stream",
     "text": [
      "Quantum object: dims = [[6, 6, 6, 6], [1, 1, 1, 1]], shape = (1296, 1), type = ket\n",
      "Qobj data =\n",
      "[[0.08333333+1.23358114e-17j]\n",
      " [0.        +0.00000000e+00j]\n",
      " [0.        +0.00000000e+00j]\n",
      " ...\n",
      " [0.        +0.00000000e+00j]\n",
      " [0.        +0.00000000e+00j]\n",
      " [0.        +0.00000000e+00j]]\n"
     ]
    }
   ],
   "source": [
    "wfn_array = np.array(ame_state_normalized[0])\n",
    "d = 6\n",
    "nqudits = 4\n",
    "wfn = qutip.Qobj(wfn_array, dims=[[d] * nqudits, [1]*nqudits])\n",
    "print(wfn)"
   ]
  },
  {
   "cell_type": "code",
   "execution_count": 15,
   "metadata": {},
   "outputs": [
    {
     "name": "stdout",
     "output_type": "stream",
     "text": [
      "Entropy of the partition AB|CD: 2.0\n",
      "Entropy of the partition AC|BD: 2.0\n",
      "Entropy of the partition AD|BC: 1.9999999999999993\n"
     ]
    }
   ],
   "source": [
    "N_A = {'AB|CD': [0,1], 'AC|BD':[0,2],'AD|BC': [0,3]} #all possible bipartitions\n",
    "for key, n in N_A.items():\n",
    "    partial_rho = wfn.ptrace(n)\n",
    "    eigval_rho = np.linalg.eigvals(partial_rho.full())\n",
    "\n",
    "    for k in range(len(eigval_rho)):\n",
    "        if eigval_rho[k] < 0.00001:\n",
    "            eigval_rho[k] = 1\n",
    "\n",
    "    print(f'Entropy of the partition {key}: {-np.real(eigval_rho.dot(np.emath.logn(d, eigval_rho)))}')"
   ]
  }
 ],
 "metadata": {
  "kernelspec": {
   "display_name": "Python 3",
   "language": "python",
   "name": "python3"
  },
  "language_info": {
   "codemirror_mode": {
    "name": "ipython",
    "version": 3
   },
   "file_extension": ".py",
   "mimetype": "text/x-python",
   "name": "python",
   "nbconvert_exporter": "python",
   "pygments_lexer": "ipython3",
   "version": "3.10.6"
  }
 },
 "nbformat": 4,
 "nbformat_minor": 5
}
